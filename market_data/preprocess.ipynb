{
 "cells": [
  {
   "cell_type": "code",
   "execution_count": 1,
   "id": "initial_id",
   "metadata": {
    "collapsed": true,
    "ExecuteTime": {
     "end_time": "2024-05-10T19:53:20.409831200Z",
     "start_time": "2024-05-10T19:53:19.605757200Z"
    }
   },
   "outputs": [],
   "source": [
    "import pandas as pd"
   ]
  },
  {
   "cell_type": "code",
   "outputs": [],
   "source": [
    "df = pd.read_csv('yh_finance_data_MSFT.csv')"
   ],
   "metadata": {
    "collapsed": false,
    "ExecuteTime": {
     "end_time": "2024-05-10T19:54:41.936475900Z",
     "start_time": "2024-05-10T19:54:41.914924900Z"
    }
   },
   "id": "3c341fe7d87b0fbb",
   "execution_count": 4
  },
  {
   "cell_type": "code",
   "outputs": [
    {
     "data": {
      "text/plain": "         date    open    high     low   close  adj_close      volume\n0  1715299200  412.99  415.38  411.80  414.65     414.65   8,839,722\n1  1715212800  410.57  412.72  409.10  412.32     412.32  14,689,700\n2  1715126400  408.17  412.23  406.71  410.54     410.54  11,792,300\n3  1715040000  414.66  414.67  409.09  409.34     409.34  20,018,200\n4  1714953600  408.76  413.93  406.37  413.54     413.54  16,996,600",
      "text/html": "<div>\n<style scoped>\n    .dataframe tbody tr th:only-of-type {\n        vertical-align: middle;\n    }\n\n    .dataframe tbody tr th {\n        vertical-align: top;\n    }\n\n    .dataframe thead th {\n        text-align: right;\n    }\n</style>\n<table border=\"1\" class=\"dataframe\">\n  <thead>\n    <tr style=\"text-align: right;\">\n      <th></th>\n      <th>date</th>\n      <th>open</th>\n      <th>high</th>\n      <th>low</th>\n      <th>close</th>\n      <th>adj_close</th>\n      <th>volume</th>\n    </tr>\n  </thead>\n  <tbody>\n    <tr>\n      <th>0</th>\n      <td>1715299200</td>\n      <td>412.99</td>\n      <td>415.38</td>\n      <td>411.80</td>\n      <td>414.65</td>\n      <td>414.65</td>\n      <td>8,839,722</td>\n    </tr>\n    <tr>\n      <th>1</th>\n      <td>1715212800</td>\n      <td>410.57</td>\n      <td>412.72</td>\n      <td>409.10</td>\n      <td>412.32</td>\n      <td>412.32</td>\n      <td>14,689,700</td>\n    </tr>\n    <tr>\n      <th>2</th>\n      <td>1715126400</td>\n      <td>408.17</td>\n      <td>412.23</td>\n      <td>406.71</td>\n      <td>410.54</td>\n      <td>410.54</td>\n      <td>11,792,300</td>\n    </tr>\n    <tr>\n      <th>3</th>\n      <td>1715040000</td>\n      <td>414.66</td>\n      <td>414.67</td>\n      <td>409.09</td>\n      <td>409.34</td>\n      <td>409.34</td>\n      <td>20,018,200</td>\n    </tr>\n    <tr>\n      <th>4</th>\n      <td>1714953600</td>\n      <td>408.76</td>\n      <td>413.93</td>\n      <td>406.37</td>\n      <td>413.54</td>\n      <td>413.54</td>\n      <td>16,996,600</td>\n    </tr>\n  </tbody>\n</table>\n</div>"
     },
     "execution_count": 5,
     "metadata": {},
     "output_type": "execute_result"
    }
   ],
   "source": [
    "df.head()"
   ],
   "metadata": {
    "collapsed": false,
    "ExecuteTime": {
     "end_time": "2024-05-10T19:54:42.883268500Z",
     "start_time": "2024-05-10T19:54:42.863573900Z"
    }
   },
   "id": "6426c83fc0eb594b",
   "execution_count": 5
  },
  {
   "cell_type": "code",
   "outputs": [],
   "source": [],
   "metadata": {
    "collapsed": false
   },
   "id": "3a91f8d5b81c82af"
  }
 ],
 "metadata": {
  "kernelspec": {
   "display_name": "Python 3",
   "language": "python",
   "name": "python3"
  },
  "language_info": {
   "codemirror_mode": {
    "name": "ipython",
    "version": 2
   },
   "file_extension": ".py",
   "mimetype": "text/x-python",
   "name": "python",
   "nbconvert_exporter": "python",
   "pygments_lexer": "ipython2",
   "version": "2.7.6"
  }
 },
 "nbformat": 4,
 "nbformat_minor": 5
}
